{
  "nbformat": 4,
  "nbformat_minor": 0,
  "metadata": {
    "colab": {
      "name": "PAGRM - Otimização - Correção",
      "provenance": [],
      "collapsed_sections": [],
      "toc_visible": true,
      "include_colab_link": true
    },
    "kernelspec": {
      "name": "python3",
      "display_name": "Python 3"
    },
    "language_info": {
      "name": "python"
    },
    "widgets": {
      "application/vnd.jupyter.widget-state+json": {
        "f5301017c1cf4cb9aa23ca0e3857f6db": {
          "model_module": "@jupyter-widgets/controls",
          "model_name": "HBoxModel",
          "model_module_version": "1.5.0",
          "state": {
            "_view_name": "HBoxView",
            "_dom_classes": [],
            "_model_name": "HBoxModel",
            "_view_module": "@jupyter-widgets/controls",
            "_model_module_version": "1.5.0",
            "_view_count": null,
            "_view_module_version": "1.5.0",
            "box_style": "",
            "layout": "IPY_MODEL_38cd037b7fb5478fa5bbfe2772d48220",
            "_model_module": "@jupyter-widgets/controls",
            "children": [
              "IPY_MODEL_b99b94fdf41942c4a30f066afc549133",
              "IPY_MODEL_b72c68ee836d4236bf74fe7937c0c7d3"
            ]
          }
        },
        "38cd037b7fb5478fa5bbfe2772d48220": {
          "model_module": "@jupyter-widgets/base",
          "model_name": "LayoutModel",
          "model_module_version": "1.2.0",
          "state": {
            "_view_name": "LayoutView",
            "grid_template_rows": null,
            "right": null,
            "justify_content": null,
            "_view_module": "@jupyter-widgets/base",
            "overflow": null,
            "_model_module_version": "1.2.0",
            "_view_count": null,
            "flex_flow": null,
            "width": null,
            "min_width": null,
            "border": null,
            "align_items": null,
            "bottom": null,
            "_model_module": "@jupyter-widgets/base",
            "top": null,
            "grid_column": null,
            "overflow_y": null,
            "overflow_x": null,
            "grid_auto_flow": null,
            "grid_area": null,
            "grid_template_columns": null,
            "flex": null,
            "_model_name": "LayoutModel",
            "justify_items": null,
            "grid_row": null,
            "max_height": null,
            "align_content": null,
            "visibility": null,
            "align_self": null,
            "height": null,
            "min_height": null,
            "padding": null,
            "grid_auto_rows": null,
            "grid_gap": null,
            "max_width": null,
            "order": null,
            "_view_module_version": "1.2.0",
            "grid_template_areas": null,
            "object_position": null,
            "object_fit": null,
            "grid_auto_columns": null,
            "margin": null,
            "display": null,
            "left": null
          }
        },
        "b99b94fdf41942c4a30f066afc549133": {
          "model_module": "@jupyter-widgets/controls",
          "model_name": "FloatProgressModel",
          "model_module_version": "1.5.0",
          "state": {
            "_view_name": "ProgressView",
            "style": "IPY_MODEL_9402c4cd81db42859b98b0afd37205e2",
            "_dom_classes": [],
            "description": "100%",
            "_model_name": "FloatProgressModel",
            "bar_style": "success",
            "max": 200,
            "_view_module": "@jupyter-widgets/controls",
            "_model_module_version": "1.5.0",
            "value": 200,
            "_view_count": null,
            "_view_module_version": "1.5.0",
            "orientation": "horizontal",
            "min": 0,
            "description_tooltip": null,
            "_model_module": "@jupyter-widgets/controls",
            "layout": "IPY_MODEL_75c0383cfe6c4db283e9ea4084973535"
          }
        },
        "b72c68ee836d4236bf74fe7937c0c7d3": {
          "model_module": "@jupyter-widgets/controls",
          "model_name": "HTMLModel",
          "model_module_version": "1.5.0",
          "state": {
            "_view_name": "HTMLView",
            "style": "IPY_MODEL_01b0d6fd08294a9c83d1b5a7ec8c277d",
            "_dom_classes": [],
            "description": "",
            "_model_name": "HTMLModel",
            "placeholder": "​",
            "_view_module": "@jupyter-widgets/controls",
            "_model_module_version": "1.5.0",
            "value": " 200/200 [09:52&lt;00:00,  2.96s/it]",
            "_view_count": null,
            "_view_module_version": "1.5.0",
            "description_tooltip": null,
            "_model_module": "@jupyter-widgets/controls",
            "layout": "IPY_MODEL_e03d3d3e72624e15a66265544708774c"
          }
        },
        "9402c4cd81db42859b98b0afd37205e2": {
          "model_module": "@jupyter-widgets/controls",
          "model_name": "ProgressStyleModel",
          "model_module_version": "1.5.0",
          "state": {
            "_view_name": "StyleView",
            "_model_name": "ProgressStyleModel",
            "description_width": "initial",
            "_view_module": "@jupyter-widgets/base",
            "_model_module_version": "1.5.0",
            "_view_count": null,
            "_view_module_version": "1.2.0",
            "bar_color": null,
            "_model_module": "@jupyter-widgets/controls"
          }
        },
        "75c0383cfe6c4db283e9ea4084973535": {
          "model_module": "@jupyter-widgets/base",
          "model_name": "LayoutModel",
          "model_module_version": "1.2.0",
          "state": {
            "_view_name": "LayoutView",
            "grid_template_rows": null,
            "right": null,
            "justify_content": null,
            "_view_module": "@jupyter-widgets/base",
            "overflow": null,
            "_model_module_version": "1.2.0",
            "_view_count": null,
            "flex_flow": null,
            "width": null,
            "min_width": null,
            "border": null,
            "align_items": null,
            "bottom": null,
            "_model_module": "@jupyter-widgets/base",
            "top": null,
            "grid_column": null,
            "overflow_y": null,
            "overflow_x": null,
            "grid_auto_flow": null,
            "grid_area": null,
            "grid_template_columns": null,
            "flex": null,
            "_model_name": "LayoutModel",
            "justify_items": null,
            "grid_row": null,
            "max_height": null,
            "align_content": null,
            "visibility": null,
            "align_self": null,
            "height": null,
            "min_height": null,
            "padding": null,
            "grid_auto_rows": null,
            "grid_gap": null,
            "max_width": null,
            "order": null,
            "_view_module_version": "1.2.0",
            "grid_template_areas": null,
            "object_position": null,
            "object_fit": null,
            "grid_auto_columns": null,
            "margin": null,
            "display": null,
            "left": null
          }
        },
        "01b0d6fd08294a9c83d1b5a7ec8c277d": {
          "model_module": "@jupyter-widgets/controls",
          "model_name": "DescriptionStyleModel",
          "model_module_version": "1.5.0",
          "state": {
            "_view_name": "StyleView",
            "_model_name": "DescriptionStyleModel",
            "description_width": "",
            "_view_module": "@jupyter-widgets/base",
            "_model_module_version": "1.5.0",
            "_view_count": null,
            "_view_module_version": "1.2.0",
            "_model_module": "@jupyter-widgets/controls"
          }
        },
        "e03d3d3e72624e15a66265544708774c": {
          "model_module": "@jupyter-widgets/base",
          "model_name": "LayoutModel",
          "model_module_version": "1.2.0",
          "state": {
            "_view_name": "LayoutView",
            "grid_template_rows": null,
            "right": null,
            "justify_content": null,
            "_view_module": "@jupyter-widgets/base",
            "overflow": null,
            "_model_module_version": "1.2.0",
            "_view_count": null,
            "flex_flow": null,
            "width": null,
            "min_width": null,
            "border": null,
            "align_items": null,
            "bottom": null,
            "_model_module": "@jupyter-widgets/base",
            "top": null,
            "grid_column": null,
            "overflow_y": null,
            "overflow_x": null,
            "grid_auto_flow": null,
            "grid_area": null,
            "grid_template_columns": null,
            "flex": null,
            "_model_name": "LayoutModel",
            "justify_items": null,
            "grid_row": null,
            "max_height": null,
            "align_content": null,
            "visibility": null,
            "align_self": null,
            "height": null,
            "min_height": null,
            "padding": null,
            "grid_auto_rows": null,
            "grid_gap": null,
            "max_width": null,
            "order": null,
            "_view_module_version": "1.2.0",
            "grid_template_areas": null,
            "object_position": null,
            "object_fit": null,
            "grid_auto_columns": null,
            "margin": null,
            "display": null,
            "left": null
          }
        }
      }
    }
  },
  "cells": [
    {
      "cell_type": "markdown",
      "metadata": {
        "id": "view-in-github",
        "colab_type": "text"
      },
      "source": [
        "<a href=\"https://colab.research.google.com/github/phpons/minimum-labeled-spanning-tree-solver/blob/master/PAGRM_Otimiza%C3%A7%C3%A3o_Corre%C3%A7%C3%A3o.ipynb\" target=\"_parent\"><img src=\"https://colab.research.google.com/assets/colab-badge.svg\" alt=\"Open In Colab\"/></a>"
      ]
    },
    {
      "cell_type": "markdown",
      "metadata": {
        "id": "Cb1YO_myp5Ku"
      },
      "source": [
        "# Implementation"
      ]
    },
    {
      "cell_type": "markdown",
      "metadata": {
        "id": "q4_cSxaSHpDo"
      },
      "source": [
        "## Imports"
      ]
    },
    {
      "cell_type": "code",
      "metadata": {
        "id": "wztsMBxtCCmY"
      },
      "source": [
        "import random\n",
        "import copy\n",
        "import math\n",
        "import time\n",
        "import pandas as pd"
      ],
      "execution_count": null,
      "outputs": []
    },
    {
      "cell_type": "markdown",
      "metadata": {
        "id": "aagZA65NLIuq"
      },
      "source": [
        "## Graph Representation"
      ]
    },
    {
      "cell_type": "code",
      "metadata": {
        "id": "26bf6c-Jp6w5"
      },
      "source": [
        "\"\"\"\n",
        "Graph class with all the data structures\n",
        "- graph{} contains the relationship between vertices and edges\n",
        "- label_edges{} contains the current label's edges\n",
        "- deleted_label_edges{} contains the deleted label's \n",
        "\n",
        "Currently, the class holds methods for:\n",
        "- Adding edges\n",
        "- Adding vertices\n",
        "- Removing edges \n",
        "  - Removing all edges associated with a label L\n",
        "- Graph description\n",
        "\"\"\"\n",
        "\n",
        "class Graph():\n",
        "  def __init__(self):\n",
        "    self.graph = {}\n",
        "    self.label_edges = {}\n",
        "    self.deleted_label_edges = {}\n",
        "\n",
        "  def add_vertex(self, vertex):\n",
        "    self.graph[vertex] = set()\n",
        "\n",
        "  def add_edge(self, edge):\n",
        "    vertex1, vertex2, color = edge\n",
        "    self.add_label_edge(color, edge)\n",
        "    self.add_graph_edge(color, vertex1, vertex2)\n",
        "  \n",
        "  def add_graph_edge(self, label, vertex1, vertex2):\n",
        "    if vertex1 not in self.graph:\n",
        "      self.add_vertex(vertex1)\n",
        "    if vertex2 not in self.graph:\n",
        "      self.add_vertex(vertex2)\n",
        "\n",
        "    self.graph[vertex1].add((vertex2, label))\n",
        "    self.graph[vertex2].add((vertex1, label))\n",
        "  \n",
        "  def add_label_edge(self, label, edge):\n",
        "    if label not in self.label_edges:\n",
        "      self.label_edges[label] = set()\n",
        "    \n",
        "    self.label_edges[label].add(edge)\n",
        "  \n",
        "  def remove_edge(self, edge):\n",
        "    vertex1, vertex2, color = edge\n",
        " \n",
        "    self.graph[vertex1].remove((vertex2, color))\n",
        "    self.graph[vertex2].remove((vertex1, color))\n",
        "\n",
        "  def remove_label_edges(self, label):\n",
        "    for edge in self.label_edges[label]:\n",
        "      self.remove_edge(edge)\n",
        "    \n",
        "    self.deleted_label_edges[label] = self.label_edges.pop(label, None)\n",
        "\n",
        "  def recover_label_edges(self, label):\n",
        "    for edge in self.deleted_label_edges[label]:\n",
        "      self.add_edge(edge)\n",
        "  \n",
        "  def neighbors(self, vertex):\n",
        "    return self.graph[vertex]\n",
        "  \n",
        "  def vertices(self):\n",
        "    return set(self.graph.keys())\n",
        "\n",
        "  def label_count(self):\n",
        "    return len(self.label_edges.keys())"
      ],
      "execution_count": null,
      "outputs": []
    },
    {
      "cell_type": "markdown",
      "metadata": {
        "id": "fpiZhoCEEomk"
      },
      "source": [
        "## Optimization Functions"
      ]
    },
    {
      "cell_type": "markdown",
      "metadata": {
        "id": "66DD0T9CzxUA"
      },
      "source": [
        "### Auxiliary Functions"
      ]
    },
    {
      "cell_type": "code",
      "metadata": {
        "id": "If4jQQN2hka8"
      },
      "source": [
        "\"\"\"\n",
        "Utilizes BFS to check whether a graph is spanning or not\n",
        "\"\"\"\n",
        "def is_spanning(g):\n",
        "  root = list(g.graph.keys())[0]\n",
        "  explored = set()\n",
        "  frontier = [root]\n",
        "\n",
        "  while frontier:\n",
        "    v = frontier.pop(0)\n",
        "    explored.add(v)\n",
        "\n",
        "    for n, c in g.neighbors(v):\n",
        "      if n not in explored:\n",
        "        frontier.append(n)\n",
        "\n",
        "  return (len(explored) == len(g.vertices()))"
      ],
      "execution_count": null,
      "outputs": []
    },
    {
      "cell_type": "code",
      "metadata": {
        "id": "q41oGZvrcvEP"
      },
      "source": [
        "\"\"\"\n",
        "Objective function to be used along with the metaheuristic\n",
        "The least label counts, the better\n",
        "\"\"\"\n",
        "def objective_function(g):  \n",
        "  return 10 * -g.label_count()"
      ],
      "execution_count": null,
      "outputs": []
    },
    {
      "cell_type": "code",
      "metadata": {
        "id": "FGJfnt9nmls3"
      },
      "source": [
        "\"\"\"\n",
        "Chooses a neighbor state, given a graph G\n",
        "- Case 1:\n",
        "  - Chooses a random label from the graph and removes all its edges\n",
        "- Case 2:\n",
        "  - Readds a previously deleted label's edges to the graph\n",
        "\n",
        "needed_labels{} -> Set of labels that are knownly necessary for the graph to be spanning\n",
        "\"\"\"\n",
        "def choose_neighbor(g):\n",
        "  global needed_labels # \n",
        "\n",
        "  possible_labels = list(g.label_edges.keys())\n",
        "  possible_labels = list(set(possible_labels) - needed_labels)\n",
        "  random.shuffle(possible_labels)\n",
        "  \n",
        "  for l in possible_labels:\n",
        "    aux_g = copy.deepcopy(g)\n",
        "    aux_g.remove_label_edges(l)\n",
        "\n",
        "    if is_spanning(aux_g):\n",
        "      return aux_g\n",
        "    else:\n",
        "      needed_labels.add(l)\n",
        "  \n",
        "  needed_labels = set()\n",
        "  possible_recovered_labels = list(g.deleted_label_edges.keys())\n",
        "\n",
        "  aux_g = copy.deepcopy(g)\n",
        "  if len(possible_recovered_labels) > 0:\n",
        "    aux_g.recover_label_edges(random.choice(possible_recovered_labels))\n",
        "\n",
        "  return aux_g"
      ],
      "execution_count": null,
      "outputs": []
    },
    {
      "cell_type": "markdown",
      "metadata": {
        "id": "6AEWnQ5mz4gw"
      },
      "source": [
        "### Simulated Annealing\n"
      ]
    },
    {
      "cell_type": "markdown",
      "metadata": {
        "id": "H4UHhRcTGMmV"
      },
      "source": [
        "![image.png](data:image/png;base64,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)"
      ]
    },
    {
      "cell_type": "code",
      "metadata": {
        "id": "x8yB18dlphO0"
      },
      "source": [
        "from tqdm.notebook import tqdm # Progress bar"
      ],
      "execution_count": null,
      "outputs": []
    },
    {
      "cell_type": "code",
      "metadata": {
        "id": "TqxZGV2-eylo"
      },
      "source": [
        "\"\"\"\n",
        "Simulated Annealing metaheuristic\n",
        "Follows the above image's logic\n",
        "\"\"\"\n",
        "\n",
        "def simulated_annealing(graph, T, R, STOP1, STOP2, F=objective_function):\n",
        "  S = copy.deepcopy(graph)\n",
        "\n",
        "  for i in tqdm(range(STOP2)):\n",
        "    for _ in range(STOP1):\n",
        "      S_ = choose_neighbor(S) \n",
        "      delta_F = F(S_) - F(S)\n",
        "      \n",
        "      if delta_F > 0:\n",
        "        S = S_    \n",
        "      elif random.random() < math.exp(delta_F/T):\n",
        "        S = S_\n",
        "\n",
        "    T = T * R\n",
        "  \n",
        "  return S"
      ],
      "execution_count": null,
      "outputs": []
    },
    {
      "cell_type": "markdown",
      "metadata": {
        "id": "mgBraxScwfP7"
      },
      "source": [
        "# Testing"
      ]
    },
    {
      "cell_type": "markdown",
      "metadata": {
        "id": "7axwZF7q_W49"
      },
      "source": [
        "## Instances Loading"
      ]
    },
    {
      "cell_type": "code",
      "metadata": {
        "id": "fzOxpnBpVZ_r"
      },
      "source": [
        "\"\"\"\n",
        "Returns a Graph from a formatted file\n",
        "\"\"\"\n",
        "def create_graph(file_name):\n",
        "  newg = Graph()\n",
        "\n",
        "  lines = open(file_name,'r').readlines()\n",
        "  first = lines[0]\n",
        "\n",
        "  for line in lines[2:]:\n",
        "    u,v,c = map(int,line.split())   \n",
        "    newg.add_edge((u,v,c))\n",
        "\n",
        "  return newg"
      ],
      "execution_count": null,
      "outputs": []
    },
    {
      "cell_type": "code",
      "metadata": {
        "id": "USCyI2zd_7zQ"
      },
      "source": [
        "\"\"\"\n",
        "Dictionary with the instances names and BKS\n",
        "{\n",
        "'instance_name': BKS_VALUE\n",
        "}\n",
        "\"\"\"\n",
        "instances_dict = {\n",
        "  'testFile_0_10_5.col': 5,\n",
        "  'testFile_7_75_37.col': 10,\n",
        "  'testFile_9_75_60.col': 7,\n",
        "  'testFile_11_75_93.col': 20,\n",
        "  '100-990-25-3-1': 8,\n",
        "  '100-990-25-3-4': 5,\n",
        "  '100-990-50-6-7': 14,\n",
        "  '100-990-50-6-8': 7,\n",
        "  '100-990-100-6-5': 17,\n",
        "  '100-990-125-7-4': 11\n",
        "}"
      ],
      "execution_count": null,
      "outputs": []
    },
    {
      "cell_type": "code",
      "metadata": {
        "id": "Ys-UpCeuXX2j",
        "colab": {
          "base_uri": "https://localhost:8080/"
        },
        "outputId": "57235ca0-cdda-406b-8bdb-21af8764f01f"
      },
      "source": [
        "\"\"\"\n",
        "Downloads the instances from Github\n",
        "\"\"\"\n",
        "for instance_name in instances_dict.keys():\n",
        "  url = \"https://raw.githubusercontent.com/tiagodrehmer/INF05100_Problems/master/instances/MLST/\" + instance_name\n",
        "  !wget $url"
      ],
      "execution_count": null,
      "outputs": [
        {
          "output_type": "stream",
          "text": [
            "--2021-05-18 05:37:49--  https://raw.githubusercontent.com/tiagodrehmer/INF05100_Problems/master/instances/MLST/testFile_0_10_5.col\n",
            "Resolving raw.githubusercontent.com (raw.githubusercontent.com)... 185.199.108.133, 185.199.110.133, 185.199.109.133, ...\n",
            "Connecting to raw.githubusercontent.com (raw.githubusercontent.com)|185.199.108.133|:443... connected.\n",
            "HTTP request sent, awaiting response... 200 OK\n",
            "Length: 63 [text/plain]\n",
            "Saving to: ‘testFile_0_10_5.col.1’\n",
            "\n",
            "\rtestFile_0_10_5.col   0%[                    ]       0  --.-KB/s               \rtestFile_0_10_5.col 100%[===================>]      63  --.-KB/s    in 0s      \n",
            "\n",
            "2021-05-18 05:37:49 (2.49 MB/s) - ‘testFile_0_10_5.col.1’ saved [63/63]\n",
            "\n",
            "--2021-05-18 05:37:49--  https://raw.githubusercontent.com/tiagodrehmer/INF05100_Problems/master/instances/MLST/testFile_7_75_37.col\n",
            "Resolving raw.githubusercontent.com (raw.githubusercontent.com)... 185.199.110.133, 185.199.108.133, 185.199.111.133, ...\n",
            "Connecting to raw.githubusercontent.com (raw.githubusercontent.com)|185.199.110.133|:443... connected.\n",
            "HTTP request sent, awaiting response... 200 OK\n",
            "Length: 4738 (4.6K) [text/plain]\n",
            "Saving to: ‘testFile_7_75_37.col.1’\n",
            "\n",
            "testFile_7_75_37.co 100%[===================>]   4.63K  --.-KB/s    in 0s      \n",
            "\n",
            "2021-05-18 05:37:49 (51.6 MB/s) - ‘testFile_7_75_37.col.1’ saved [4738/4738]\n",
            "\n",
            "--2021-05-18 05:37:50--  https://raw.githubusercontent.com/tiagodrehmer/INF05100_Problems/master/instances/MLST/testFile_9_75_60.col\n",
            "Resolving raw.githubusercontent.com (raw.githubusercontent.com)... 185.199.110.133, 185.199.108.133, 185.199.111.133, ...\n",
            "Connecting to raw.githubusercontent.com (raw.githubusercontent.com)|185.199.110.133|:443... connected.\n",
            "HTTP request sent, awaiting response... 200 OK\n",
            "Length: 4800 (4.7K) [text/plain]\n",
            "Saving to: ‘testFile_9_75_60.col.1’\n",
            "\n",
            "testFile_9_75_60.co 100%[===================>]   4.69K  --.-KB/s    in 0s      \n",
            "\n",
            "2021-05-18 05:37:50 (47.7 MB/s) - ‘testFile_9_75_60.col.1’ saved [4800/4800]\n",
            "\n",
            "--2021-05-18 05:37:50--  https://raw.githubusercontent.com/tiagodrehmer/INF05100_Problems/master/instances/MLST/testFile_11_75_93.col\n",
            "Resolving raw.githubusercontent.com (raw.githubusercontent.com)... 185.199.108.133, 185.199.109.133, 185.199.110.133, ...\n",
            "Connecting to raw.githubusercontent.com (raw.githubusercontent.com)|185.199.108.133|:443... connected.\n",
            "HTTP request sent, awaiting response... 200 OK\n",
            "Length: 4821 (4.7K) [text/plain]\n",
            "Saving to: ‘testFile_11_75_93.col.1’\n",
            "\n",
            "testFile_11_75_93.c 100%[===================>]   4.71K  --.-KB/s    in 0s      \n",
            "\n",
            "2021-05-18 05:37:50 (49.8 MB/s) - ‘testFile_11_75_93.col.1’ saved [4821/4821]\n",
            "\n",
            "--2021-05-18 05:37:50--  https://raw.githubusercontent.com/tiagodrehmer/INF05100_Problems/master/instances/MLST/100-990-25-3-1\n",
            "Resolving raw.githubusercontent.com (raw.githubusercontent.com)... 185.199.108.133, 185.199.109.133, 185.199.110.133, ...\n",
            "Connecting to raw.githubusercontent.com (raw.githubusercontent.com)|185.199.108.133|:443... connected.\n",
            "HTTP request sent, awaiting response... 200 OK\n",
            "Length: 8285 (8.1K) [text/plain]\n",
            "Saving to: ‘100-990-25-3-1.1’\n",
            "\n",
            "100-990-25-3-1.1    100%[===================>]   8.09K  --.-KB/s    in 0s      \n",
            "\n",
            "2021-05-18 05:37:50 (68.1 MB/s) - ‘100-990-25-3-1.1’ saved [8285/8285]\n",
            "\n",
            "--2021-05-18 05:37:50--  https://raw.githubusercontent.com/tiagodrehmer/INF05100_Problems/master/instances/MLST/100-990-25-3-4\n",
            "Resolving raw.githubusercontent.com (raw.githubusercontent.com)... 185.199.110.133, 185.199.109.133, 185.199.111.133, ...\n",
            "Connecting to raw.githubusercontent.com (raw.githubusercontent.com)|185.199.110.133|:443... connected.\n",
            "HTTP request sent, awaiting response... 200 OK\n",
            "Length: 8265 (8.1K) [text/plain]\n",
            "Saving to: ‘100-990-25-3-4.1’\n",
            "\n",
            "100-990-25-3-4.1    100%[===================>]   8.07K  --.-KB/s    in 0s      \n",
            "\n",
            "2021-05-18 05:37:51 (92.7 MB/s) - ‘100-990-25-3-4.1’ saved [8265/8265]\n",
            "\n",
            "--2021-05-18 05:37:51--  https://raw.githubusercontent.com/tiagodrehmer/INF05100_Problems/master/instances/MLST/100-990-50-6-7\n",
            "Resolving raw.githubusercontent.com (raw.githubusercontent.com)... 185.199.108.133, 185.199.109.133, 185.199.110.133, ...\n",
            "Connecting to raw.githubusercontent.com (raw.githubusercontent.com)|185.199.108.133|:443... connected.\n",
            "HTTP request sent, awaiting response... 200 OK\n",
            "Length: 8470 (8.3K) [text/plain]\n",
            "Saving to: ‘100-990-50-6-7.1’\n",
            "\n",
            "100-990-50-6-7.1    100%[===================>]   8.27K  --.-KB/s    in 0s      \n",
            "\n",
            "2021-05-18 05:37:51 (73.9 MB/s) - ‘100-990-50-6-7.1’ saved [8470/8470]\n",
            "\n",
            "--2021-05-18 05:37:51--  https://raw.githubusercontent.com/tiagodrehmer/INF05100_Problems/master/instances/MLST/100-990-50-6-8\n",
            "Resolving raw.githubusercontent.com (raw.githubusercontent.com)... 185.199.111.133, 185.199.108.133, 185.199.109.133, ...\n",
            "Connecting to raw.githubusercontent.com (raw.githubusercontent.com)|185.199.111.133|:443... connected.\n",
            "HTTP request sent, awaiting response... 200 OK\n",
            "Length: 8344 (8.1K) [text/plain]\n",
            "Saving to: ‘100-990-50-6-8.1’\n",
            "\n",
            "100-990-50-6-8.1    100%[===================>]   8.15K  --.-KB/s    in 0s      \n",
            "\n",
            "2021-05-18 05:37:51 (81.0 MB/s) - ‘100-990-50-6-8.1’ saved [8344/8344]\n",
            "\n",
            "--2021-05-18 05:37:51--  https://raw.githubusercontent.com/tiagodrehmer/INF05100_Problems/master/instances/MLST/100-990-100-6-5\n",
            "Resolving raw.githubusercontent.com (raw.githubusercontent.com)... 185.199.108.133, 185.199.109.133, 185.199.110.133, ...\n",
            "Connecting to raw.githubusercontent.com (raw.githubusercontent.com)|185.199.108.133|:443... connected.\n",
            "HTTP request sent, awaiting response... 200 OK\n",
            "Length: 8182 (8.0K) [text/plain]\n",
            "Saving to: ‘100-990-100-6-5.1’\n",
            "\n",
            "100-990-100-6-5.1   100%[===================>]   7.99K  --.-KB/s    in 0s      \n",
            "\n",
            "2021-05-18 05:37:51 (72.8 MB/s) - ‘100-990-100-6-5.1’ saved [8182/8182]\n",
            "\n",
            "--2021-05-18 05:37:51--  https://raw.githubusercontent.com/tiagodrehmer/INF05100_Problems/master/instances/MLST/100-990-125-7-4\n",
            "Resolving raw.githubusercontent.com (raw.githubusercontent.com)... 185.199.110.133, 185.199.108.133, 185.199.111.133, ...\n",
            "Connecting to raw.githubusercontent.com (raw.githubusercontent.com)|185.199.110.133|:443... connected.\n",
            "HTTP request sent, awaiting response... 200 OK\n",
            "Length: 8747 (8.5K) [text/plain]\n",
            "Saving to: ‘100-990-125-7-4.1’\n",
            "\n",
            "100-990-125-7-4.1   100%[===================>]   8.54K  --.-KB/s    in 0s      \n",
            "\n",
            "2021-05-18 05:37:52 (53.1 MB/s) - ‘100-990-125-7-4.1’ saved [8747/8747]\n",
            "\n"
          ],
          "name": "stdout"
        }
      ]
    },
    {
      "cell_type": "markdown",
      "metadata": {
        "id": "Yf7igl3E_h7D"
      },
      "source": [
        "## Instance Testing Function"
      ]
    },
    {
      "cell_type": "code",
      "metadata": {
        "id": "5G8dQYOUse5I"
      },
      "source": [
        "\"\"\"\n",
        "Runs Simulated Annealing on ALL instances\n",
        "Returns a dataframe with results and statistics\n",
        "\"\"\"\n",
        "def test_instances(instances_dict, T, R, STOP1, STOP2, max_seed):\n",
        "  global needed_labels # This variable is reset for every seed so as not to affect the neighborhood generation.\n",
        "  results = []\n",
        "\n",
        "  for instance_name, best_known_solution in instances_dict.items():\n",
        "    g = create_graph('/content/' + instance_name)\n",
        "    initial_solution = g.label_count()\n",
        "\n",
        "    for i in range(1, max_seed+1):\n",
        "      needed_labels = set()\n",
        "      \n",
        "      start = time.time()\n",
        "      random.seed(i)\n",
        "      new_g = simulated_annealing(g, T, R, STOP1, STOP2)\n",
        "      end = time.time()\n",
        "      \n",
        "      d = {\n",
        "            'instance': instance_name, \n",
        "            'seed': i, \n",
        "            'SA_solution': new_g.label_count(), \n",
        "            'bks': best_known_solution, \n",
        "            'execution_time': end-start, \n",
        "            'dev_from_bks': 100/best_known_solution * (new_g.label_count() - best_known_solution),\n",
        "            'initial_solution': initial_solution\n",
        "          }\n",
        "          \n",
        "      results.append(d)\n",
        "\n",
        "  results_df = pd.DataFrame.from_dict(results)\n",
        "  return results_df"
      ],
      "execution_count": null,
      "outputs": []
    },
    {
      "cell_type": "code",
      "metadata": {
        "id": "ThZZKK2bHtos"
      },
      "source": [
        "\"\"\"\n",
        "Runs Simulated Annealing on a SINGLE instance\n",
        "Returns a dataframe with results and statistics\n",
        "\"\"\"\n",
        "def test_instance(instance_name, best_known_solution, T, R, STOP1, STOP2, seed_number):\n",
        "  global needed_labels # This variable is reset for every seed so as not to affect the neighborhood generation.\n",
        "  needed_labels = set()\n",
        "\n",
        "  g = create_graph('/content/' + instance_name)\n",
        "  initial_solution = g.label_count()\n",
        "  \n",
        "  start = time.time()\n",
        "  random.seed(seed_number)\n",
        "  new_g = simulated_annealing(g, T, R, STOP1, STOP2)\n",
        "  end = time.time()\n",
        "  \n",
        "  results = {\n",
        "        'instance': instance_name, \n",
        "        'seed': seed_number, \n",
        "        'SA_solution': new_g.label_count(), \n",
        "        'bks': best_known_solution, \n",
        "        'execution_time': end-start, \n",
        "        'dev_from_bks': 100/best_known_solution * (new_g.label_count() - best_known_solution),\n",
        "        'initial_solution': initial_solution\n",
        "      }\n",
        "\n",
        "  results_df = pd.DataFrame.from_dict([results])\n",
        "  return results_df"
      ],
      "execution_count": null,
      "outputs": []
    },
    {
      "cell_type": "markdown",
      "metadata": {
        "id": "VapylDZ4MTY-"
      },
      "source": [
        "## Test all instances\n"
      ]
    },
    {
      "cell_type": "markdown",
      "metadata": {
        "id": "iARu1lZ0MedD"
      },
      "source": [
        "This is the code we used to obtain the results for all instances. <br>\n",
        "We ran the tests for each instance with seeds from [1,10]."
      ]
    },
    {
      "cell_type": "code",
      "metadata": {
        "id": "qPQUSuO6Md4C"
      },
      "source": [
        "# results_df = test_instances(instances_dict, T=1000, R=0.98, STOP1=5, STOP2=200, max_seed=10)"
      ],
      "execution_count": null,
      "outputs": []
    },
    {
      "cell_type": "code",
      "metadata": {
        "id": "_u3egLi_NCp6"
      },
      "source": [
        "# results_df.groupby('instance')[['SA_solution', 'execution_time', 'bks', 'dev_from_bks']].mean()"
      ],
      "execution_count": null,
      "outputs": []
    },
    {
      "cell_type": "code",
      "metadata": {
        "id": "NGKTUhqXCxXz"
      },
      "source": [
        "# results_df.to_csv('metaheuristic_results.csv', index=False)"
      ],
      "execution_count": null,
      "outputs": []
    },
    {
      "cell_type": "markdown",
      "metadata": {
        "id": "6NgVNqcw27PF"
      },
      "source": [
        "## Single instance testing\n"
      ]
    },
    {
      "cell_type": "code",
      "metadata": {
        "id": "7a0L46y2BsX7"
      },
      "source": [
        "\"\"\"\n",
        "Set the parameters for Simulated Annealing\n",
        "T = Initial Temperature\n",
        "R = Cooling Factor\n",
        "STOP1 = # of iterations for the inner loop\n",
        "STOP2 = # of iterations for the outer loop\n",
        "seed_number = Seed for the random number generator\n",
        "\"\"\"\n",
        "T = 1000\n",
        "R = 0.98\n",
        "STOP1 = 5\n",
        "STOP2 = 200\n",
        "seed_number = 1"
      ],
      "execution_count": null,
      "outputs": []
    },
    {
      "cell_type": "code",
      "metadata": {
        "id": "DmvGG-sh9hyH",
        "colab": {
          "base_uri": "https://localhost:8080/",
          "height": 129,
          "referenced_widgets": [
            "f5301017c1cf4cb9aa23ca0e3857f6db",
            "38cd037b7fb5478fa5bbfe2772d48220",
            "b99b94fdf41942c4a30f066afc549133",
            "b72c68ee836d4236bf74fe7937c0c7d3",
            "9402c4cd81db42859b98b0afd37205e2",
            "75c0383cfe6c4db283e9ea4084973535",
            "01b0d6fd08294a9c83d1b5a7ec8c277d",
            "e03d3d3e72624e15a66265544708774c"
          ]
        },
        "outputId": "8e216152-0c8b-4bc5-fdb4-5e1902d97185"
      },
      "source": [
        "#@title Choose an instance to be tested { run: \"auto\" }\n",
        "\n",
        "instance_name = \"100-990-25-3-1\" #@param [\"testFile_0_10_5.col\", \"testFile_7_75_37.col\", \"testFile_9_75_60.col\", \"testFile_11_75_93.col\", \"100-990-25-3-1\", \"100-990-25-3-4\", \"100-990-50-6-7\", \"100-990-50-6-8\", \"100-990-100-6-5\", \"100-990-125-7-4\"]\n",
        "instance_bks = instances_dict[instance_name]\n",
        "\n",
        "results_df = test_instance(instance_name, instance_bks, T, R, STOP1, STOP2, seed_number)\n",
        "results_df"
      ],
      "execution_count": null,
      "outputs": [
        {
          "output_type": "display_data",
          "data": {
            "application/vnd.jupyter.widget-view+json": {
              "model_id": "f5301017c1cf4cb9aa23ca0e3857f6db",
              "version_minor": 0,
              "version_major": 2
            },
            "text/plain": [
              "HBox(children=(FloatProgress(value=0.0, max=200.0), HTML(value='')))"
            ]
          },
          "metadata": {
            "tags": []
          }
        },
        {
          "output_type": "stream",
          "text": [
            "\n"
          ],
          "name": "stdout"
        },
        {
          "output_type": "execute_result",
          "data": {
            "text/html": [
              "<div>\n",
              "<style scoped>\n",
              "    .dataframe tbody tr th:only-of-type {\n",
              "        vertical-align: middle;\n",
              "    }\n",
              "\n",
              "    .dataframe tbody tr th {\n",
              "        vertical-align: top;\n",
              "    }\n",
              "\n",
              "    .dataframe thead th {\n",
              "        text-align: right;\n",
              "    }\n",
              "</style>\n",
              "<table border=\"1\" class=\"dataframe\">\n",
              "  <thead>\n",
              "    <tr style=\"text-align: right;\">\n",
              "      <th></th>\n",
              "      <th>instance</th>\n",
              "      <th>seed</th>\n",
              "      <th>SA_solution</th>\n",
              "      <th>bks</th>\n",
              "      <th>execution_time</th>\n",
              "      <th>dev_from_bks</th>\n",
              "      <th>initial_solution</th>\n",
              "    </tr>\n",
              "  </thead>\n",
              "  <tbody>\n",
              "    <tr>\n",
              "      <th>0</th>\n",
              "      <td>100-990-25-3-1</td>\n",
              "      <td>1</td>\n",
              "      <td>6</td>\n",
              "      <td>8</td>\n",
              "      <td>29.978527</td>\n",
              "      <td>-25.0</td>\n",
              "      <td>25</td>\n",
              "    </tr>\n",
              "  </tbody>\n",
              "</table>\n",
              "</div>"
            ],
            "text/plain": [
              "         instance  seed  ...  dev_from_bks  initial_solution\n",
              "0  100-990-25-3-1     1  ...         -25.0                25\n",
              "\n",
              "[1 rows x 7 columns]"
            ]
          },
          "metadata": {
            "tags": []
          },
          "execution_count": 43
        }
      ]
    }
  ]
}